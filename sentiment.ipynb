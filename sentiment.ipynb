{
 "cells": [
  {
   "cell_type": "code",
   "execution_count": 67,
   "metadata": {},
   "outputs": [],
   "source": [
    "import spacy\n",
    "import os\n",
    "from spacytextblob.spacytextblob import SpacyTextBlob\n",
    "import pandas as pd"
   ]
  },
  {
   "cell_type": "code",
   "execution_count": 68,
   "metadata": {},
   "outputs": [],
   "source": [
    "rv_folder_path = './Reviews/'\n",
    "files = os.listdir(rv_folder_path)"
   ]
  },
  {
   "cell_type": "code",
   "execution_count": 69,
   "metadata": {},
   "outputs": [
    {
     "data": {
      "text/plain": [
       "<spacytextblob.spacytextblob.SpacyTextBlob at 0x17eaba8fee0>"
      ]
     },
     "execution_count": 69,
     "metadata": {},
     "output_type": "execute_result"
    }
   ],
   "source": [
    "nlp = spacy.load('en_core_web_sm')\n",
    "nlp.add_pipe('spacytextblob')"
   ]
  },
  {
   "cell_type": "code",
   "execution_count": 70,
   "metadata": {},
   "outputs": [],
   "source": [
    "def get_sentiment(text):\n",
    "    doc = nlp(text)\n",
    "    if(doc._.blob.polarity > 0):\n",
    "        return 1\n",
    "    elif(doc._.blob.polarity < 0):\n",
    "        return -1\n",
    "    else:\n",
    "        return 0"
   ]
  },
  {
   "cell_type": "code",
   "execution_count": 71,
   "metadata": {},
   "outputs": [],
   "source": [
    "def clean_text(text):\n",
    "    text = text.lower()\n",
    "    doc = nlp(text)\n",
    "    \n",
    "    text = ' '.join(token.lemma_ for token in doc if(not token.is_punct and not token.is_currency and not token.is_digit and not token.is_space and not token.is_stop))\n",
    "    return text"
   ]
  },
  {
   "cell_type": "code",
   "execution_count": 72,
   "metadata": {},
   "outputs": [],
   "source": [
    "def get_overall(df,file):\n",
    "    sentiment = list(df['sentiment'])\n",
    "    overall_sentiment = sum(sentiment)\n",
    "    positive_num = sentiment.count(1)\n",
    "    if(overall_sentiment > 0):\n",
    "        return f'Sentiment for {file} is Positive {positive_num}/{len(sentiment)}'\n",
    "    elif(overall_sentiment < 0):\n",
    "        return f'Sentiment for {file} is Negative {positive_num}/{len(sentiment)}'\n",
    "    else:\n",
    "        return f'Sentiment for {file} is Neutral {positive_num}/{len(sentiment)}'"
   ]
  },
  {
   "cell_type": "code",
   "execution_count": 73,
   "metadata": {},
   "outputs": [],
   "source": [
    "def sentiment_analysis(file):\n",
    "    path = os.path.join(rv_folder_path,file)\n",
    "    # print(path)\n",
    "    df = pd.read_csv(path)\n",
    "    total_polarity = 0.0\n",
    "\n",
    "    if(df['reviews'].isna().sum() > 0):\n",
    "        df = df.dropna()\n",
    "\n",
    "    df['reviews'] = df['reviews'].apply(lambda x:clean_text(x))\n",
    "    df['sentiment'] = df['reviews'].apply(lambda x:get_sentiment(x))\n",
    "\n",
    "    if('Unnamed: 0' in df):\n",
    "        df = df.drop(['Unnamed: 0'], axis=1)\n",
    "\n",
    "    print(get_overall(df,file))"
   ]
  },
  {
   "cell_type": "code",
   "execution_count": 74,
   "metadata": {},
   "outputs": [
    {
     "name": "stdout",
     "output_type": "stream",
     "text": [
      "Sentiment for BCH.csv is Positive 6/11\n",
      "Sentiment for BukitBagindaTrailhead.csv is Positive 18/26\n",
      "Sentiment for BukitGulingAyam.csv is Positive 17/18\n",
      "Sentiment for BukitSawaTua.csv is Positive 52/62\n",
      "Sentiment for ChillingWaterfall.csv is Positive 113/150\n",
      "Sentiment for FF_AvenueK.csv is Positive 81/116\n",
      "Sentiment for FF_ParadigmMall.csv is Positive 32/46\n",
      "Sentiment for FF_TheCurve.csv is Positive 25/41\n",
      "Sentiment for Forum19.csv is Positive 219/300\n",
      "Sentiment for GunungAngsi.csv is Positive 59/73\n",
      "Sentiment for HutanPendidikanBukitGasing.csv is Positive 108/120\n",
      "Sentiment for JalanRumpaiBasketballCourt.csv is Positive 12/18\n",
      "Sentiment for KFitnessGym.csv is Positive 210/225\n",
      "Sentiment for NewVision.csv is Positive 112/174\n",
      "Sentiment for PerdanaLake.csv is Positive 114/120\n",
      "Sentiment for Presint18ParkrunPutrajaya.csv is Positive 7/9\n",
      "Sentiment for RepublicOfFutsal.csv is Positive 115/138\n",
      "Sentiment for SS2BasketballCourt.csv is Positive 13/20\n",
      "Sentiment for SS3BasketballCourt.csv is Positive 22/38\n",
      "Sentiment for SunsuriaAvenue.csv is Positive 76/113\n",
      "Sentiment for UM_clean.csv is Positive 103/138\n",
      "Sentiment for UPM_clean.csv is Positive 27/33\n"
     ]
    }
   ],
   "source": [
    "for file in files:\n",
    "    sentiment_analysis(file)"
   ]
  }
 ],
 "metadata": {
  "kernelspec": {
   "display_name": "Python 3.9.6 64-bit",
   "language": "python",
   "name": "python3"
  },
  "language_info": {
   "codemirror_mode": {
    "name": "ipython",
    "version": 3
   },
   "file_extension": ".py",
   "mimetype": "text/x-python",
   "name": "python",
   "nbconvert_exporter": "python",
   "pygments_lexer": "ipython3",
   "version": "3.9.6"
  },
  "orig_nbformat": 4,
  "vscode": {
   "interpreter": {
    "hash": "3ced2f4eaaec4a5ad21e54a5682a43cb37ebcff431dffc69052d7e4efcca1b3f"
   }
  }
 },
 "nbformat": 4,
 "nbformat_minor": 2
}
